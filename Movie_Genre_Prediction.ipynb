{
  "nbformat": 4,
  "nbformat_minor": 0,
  "metadata": {
    "colab": {
      "provenance": []
    },
    "kernelspec": {
      "name": "python3",
      "display_name": "Python 3"
    },
    "language_info": {
      "name": "python"
    }
  },
  "cells": [
    {
      "cell_type": "code",
      "source": [
        "# Importing the dependencies\n",
        "import numpy as np\n",
        "import pandas as pd\n",
        "from sklearn.feature_extraction.text import TfidfVectorizer\n",
        "from sklearn.model_selection import train_test_split\n",
        "from sklearn.naive_bayes import MultinomialNB\n",
        "from sklearn import metrics"
      ],
      "metadata": {
        "id": "v0v3MCZEE2pT"
      },
      "execution_count": 1,
      "outputs": []
    },
    {
      "cell_type": "code",
      "source": [
        "# reading .txt fie and saving it to a .csv file\n",
        "data=pd.read_csv('train_data.txt',delimiter=':::')\n",
        "data.to_csv('train_data.csv',sep=',',index=False)\n",
        "\n",
        "# loading that saved .csv file\n",
        "dataset=pd.read_csv('train_data.csv',header=None,names=['MovieName','Genre','plot'])\n",
        "print(dataset)"
      ],
      "metadata": {
        "colab": {
          "base_uri": "https://localhost:8080/"
        },
        "id": "NBZPxwd4E3Gr",
        "outputId": "32e16632-7f05-47a5-eba4-05ab9c6b269d"
      },
      "execution_count": 2,
      "outputs": [
        {
          "output_type": "stream",
          "name": "stderr",
          "text": [
            "<ipython-input-2-618b75e94a0c>:2: ParserWarning: Falling back to the 'python' engine because the 'c' engine does not support regex separators (separators > 1 char and different from '\\s+' are interpreted as regex); you can avoid this warning by specifying engine='python'.\n",
            "  data=pd.read_csv('train_data.txt',delimiter=':::')\n"
          ]
        },
        {
          "output_type": "stream",
          "name": "stdout",
          "text": [
            "                                          MovieName          Genre  \\\n",
            "1                     Oscar et la dame rose (2009)          drama    \n",
            "2                                     Cupid (1997)       thriller    \n",
            "3                 Young, Wild and Wonderful (1980)          adult    \n",
            "4                            The Secret Sin (1915)          drama    \n",
            "5                           The Unrecovered (2007)          drama    \n",
            "...                                             ...            ...   \n",
            "54210                              \"Bonino\" (1953)         comedy    \n",
            "54211                  Dead Girls Don't Cry (????)         horror    \n",
            "54212    Ronald Goedemondt: Ze bestaan echt (2008)    documentary    \n",
            "54213                     Make Your Own Bed (1944)         comedy    \n",
            "54214   Nature's Fury: Storm of the Century (2006)        history    \n",
            "\n",
            "                                                    plot  \n",
            "1       Listening in to a conversation between his do...  \n",
            "2       A brother and sister with a past incestuous r...  \n",
            "3       As the bus empties the students for their fie...  \n",
            "4       To help their unemployed father make ends mee...  \n",
            "5       The film's title refers not only to the un-re...  \n",
            "...                                                  ...  \n",
            "54210   This short-lived NBC live sitcom centered on ...  \n",
            "54211   The NEXT Generation of EXPLOITATION. The sist...  \n",
            "54212   Ze bestaan echt, is a stand-up comedy about g...  \n",
            "54213   Walter and Vivian live in the country and hav...  \n",
            "54214   On Labor Day Weekend, 1935, the most intense ...  \n",
            "\n",
            "[54214 rows x 3 columns]\n"
          ]
        }
      ]
    },
    {
      "cell_type": "code",
      "source": [
        "# let's see what are all the movie genres in the dataset\n",
        "genres=dataset['Genre'].unique()\n",
        "print(genres)"
      ],
      "metadata": {
        "colab": {
          "base_uri": "https://localhost:8080/"
        },
        "id": "QyoggKvkFZap",
        "outputId": "bef21aaf-b53b-4fe2-969e-2c9cb1891d52"
      },
      "execution_count": 3,
      "outputs": [
        {
          "output_type": "stream",
          "name": "stdout",
          "text": [
            "[' drama ' ' thriller ' ' adult ' ' documentary ' ' comedy ' ' crime '\n",
            " ' reality-tv ' ' horror ' ' sport ' ' animation ' ' action ' ' fantasy '\n",
            " ' short ' ' sci-fi ' ' music ' ' adventure ' ' talk-show ' ' western '\n",
            " ' family ' ' mystery ' ' history ' ' news ' ' biography ' ' romance '\n",
            " ' game-show ' ' musical ' ' war ']\n"
          ]
        }
      ]
    },
    {
      "cell_type": "code",
      "source": [
        "dict={}\n",
        "for i in range(len(genres)):\n",
        "    dict[genres[i]]=i\n",
        "print(dict)"
      ],
      "metadata": {
        "colab": {
          "base_uri": "https://localhost:8080/"
        },
        "id": "izdE1OxQc3Cu",
        "outputId": "3f9f967d-29a9-4d85-df0e-bb32f7025678"
      },
      "execution_count": 4,
      "outputs": [
        {
          "output_type": "stream",
          "name": "stdout",
          "text": [
            "{' drama ': 0, ' thriller ': 1, ' adult ': 2, ' documentary ': 3, ' comedy ': 4, ' crime ': 5, ' reality-tv ': 6, ' horror ': 7, ' sport ': 8, ' animation ': 9, ' action ': 10, ' fantasy ': 11, ' short ': 12, ' sci-fi ': 13, ' music ': 14, ' adventure ': 15, ' talk-show ': 16, ' western ': 17, ' family ': 18, ' mystery ': 19, ' history ': 20, ' news ': 21, ' biography ': 22, ' romance ': 23, ' game-show ': 24, ' musical ': 25, ' war ': 26}\n"
          ]
        }
      ]
    },
    {
      "cell_type": "code",
      "source": [
        "dataset['plotnum']=dataset['Genre'].map(dict)\n",
        "print(dataset)"
      ],
      "metadata": {
        "colab": {
          "base_uri": "https://localhost:8080/"
        },
        "id": "hACZqMmeapgS",
        "outputId": "c3063275-00a4-4615-8537-b8221075fcc2"
      },
      "execution_count": 5,
      "outputs": [
        {
          "output_type": "stream",
          "name": "stdout",
          "text": [
            "                                          MovieName          Genre  \\\n",
            "1                     Oscar et la dame rose (2009)          drama    \n",
            "2                                     Cupid (1997)       thriller    \n",
            "3                 Young, Wild and Wonderful (1980)          adult    \n",
            "4                            The Secret Sin (1915)          drama    \n",
            "5                           The Unrecovered (2007)          drama    \n",
            "...                                             ...            ...   \n",
            "54210                              \"Bonino\" (1953)         comedy    \n",
            "54211                  Dead Girls Don't Cry (????)         horror    \n",
            "54212    Ronald Goedemondt: Ze bestaan echt (2008)    documentary    \n",
            "54213                     Make Your Own Bed (1944)         comedy    \n",
            "54214   Nature's Fury: Storm of the Century (2006)        history    \n",
            "\n",
            "                                                    plot  plotnum  \n",
            "1       Listening in to a conversation between his do...        0  \n",
            "2       A brother and sister with a past incestuous r...        1  \n",
            "3       As the bus empties the students for their fie...        2  \n",
            "4       To help their unemployed father make ends mee...        0  \n",
            "5       The film's title refers not only to the un-re...        0  \n",
            "...                                                  ...      ...  \n",
            "54210   This short-lived NBC live sitcom centered on ...        4  \n",
            "54211   The NEXT Generation of EXPLOITATION. The sist...        7  \n",
            "54212   Ze bestaan echt, is a stand-up comedy about g...        3  \n",
            "54213   Walter and Vivian live in the country and hav...        4  \n",
            "54214   On Labor Day Weekend, 1935, the most intense ...       20  \n",
            "\n",
            "[54214 rows x 4 columns]\n"
          ]
        }
      ]
    },
    {
      "cell_type": "code",
      "source": [
        "# here we only need plot\n",
        "# by plot we have to identify the genre of the movie\n",
        "X=dataset['plot']\n",
        "y=dataset['plotnum']"
      ],
      "metadata": {
        "id": "GMPwHKYkdxdj"
      },
      "execution_count": 6,
      "outputs": []
    },
    {
      "cell_type": "code",
      "source": [
        "vectorizer=TfidfVectorizer()\n",
        "X=vectorizer.fit_transform(X)"
      ],
      "metadata": {
        "id": "BpN2KG9JeEsx"
      },
      "execution_count": 7,
      "outputs": []
    },
    {
      "cell_type": "code",
      "source": [
        "# Training Naive Bayes(NB) classifier on training data.\n",
        "# Using sparse matrix directly\n",
        "clf=MultinomialNB().fit(X,y)"
      ],
      "metadata": {
        "id": "WSaBqbQ9eyj4"
      },
      "execution_count": 8,
      "outputs": []
    },
    {
      "cell_type": "code",
      "source": [
        "# testing data\n",
        "# reading .txt fie and saving it to a .csv file\n",
        "data=pd.read_csv('test_data.txt',delimiter=':::')\n",
        "data.to_csv('test_data.csv',sep=',',index=False)\n",
        "\n",
        "# loading that saved .csv file\n",
        "dataset=pd.read_csv('test_data.csv',header=None,names=['MovieName','Genre','plot'])"
      ],
      "metadata": {
        "id": "u-IWIR51hLNG",
        "colab": {
          "base_uri": "https://localhost:8080/"
        },
        "outputId": "9a530108-ea8b-4fd8-a17d-ea8ea0685392"
      },
      "execution_count": 9,
      "outputs": [
        {
          "output_type": "stream",
          "name": "stderr",
          "text": [
            "<ipython-input-9-5f10319c17ea>:3: ParserWarning: Falling back to the 'python' engine because the 'c' engine does not support regex separators (separators > 1 char and different from '\\s+' are interpreted as regex); you can avoid this warning by specifying engine='python'.\n",
            "  data=pd.read_csv('test_data.txt',delimiter=':::')\n"
          ]
        }
      ]
    },
    {
      "cell_type": "code",
      "source": [
        "dataset.dropna(inplace=True)\n",
        "dataset['plotnum']=dataset['Genre'].map(dict)\n",
        "print(dataset)"
      ],
      "metadata": {
        "id": "vQoH4rH8k2VL",
        "colab": {
          "base_uri": "https://localhost:8080/"
        },
        "outputId": "daaf17ee-2495-4880-daea-624388ad8312"
      },
      "execution_count": 10,
      "outputs": [
        {
          "output_type": "stream",
          "name": "stdout",
          "text": [
            "                                     MovieName          Genre  \\\n",
            "1                        Edgar's Lunch (1998)       thriller    \n",
            "2                    La guerra de papá (1977)         comedy    \n",
            "3                 Off the Beaten Track (2010)    documentary    \n",
            "4                      Meu Amigo Hindu (2015)          drama    \n",
            "5                           Er nu zhai (1955)          drama    \n",
            "...                                        ...            ...   \n",
            "1583         Billy the Kid in Santa Fe (1941)        western    \n",
            "1584   Yi ban hai shui, yi ban huo yan (2008)          drama    \n",
            "1585                 Our Lives on Mars (2016)          short    \n",
            "1586               Witches in Stitches (1997)      animation    \n",
            "1587     Diary of a Times Square Thief (2008)    documentary    \n",
            "\n",
            "                                                   plot  plotnum  \n",
            "1      L.R. Brane loves his life - his car, his apar...        1  \n",
            "2      Spain, March 1964: Quico is a very naughty ch...        4  \n",
            "3      One year in the life of Albin and his family ...        3  \n",
            "4      His father has died, he hasn't spoken with hi...        0  \n",
            "5      Before he was known internationally as a mart...        0  \n",
            "...                                                 ...      ...  \n",
            "1583   After being framed for murder, Billy escapes ...       17  \n",
            "1584   Wong Yiu was a very shameless person and a bl...        0  \n",
            "1585   As NASA prepares for a manned expedition to M...       12  \n",
            "1586   Hop aboard a broomstick for this tale of two ...        9  \n",
            "1587   Diary of a Times Square Thief documents a jou...        3  \n",
            "\n",
            "[1587 rows x 4 columns]\n"
          ]
        }
      ]
    },
    {
      "cell_type": "code",
      "source": [
        "# transforming test data and finding predictions\n",
        "X_test=dataset['plot']\n",
        "X_test=vectorizer.transform(X_test)\n",
        "predictions=clf.predict(X_test)\n",
        "y_test=dataset['plotnum']"
      ],
      "metadata": {
        "id": "4xLu_VsQiYGx"
      },
      "execution_count": 11,
      "outputs": []
    },
    {
      "cell_type": "code",
      "source": [
        "# printing accuracy, Confusion Matrix, Precision and Recall\n",
        "print('Accuracy: ',metrics.accuracy_score(y_test,predictions))\n",
        "print('Confusion Matrix: ',metrics.confusion_matrix(y_test,predictions))\n",
        "print('classification report is: ',metrics.classification_report(y_test,predictions))\n",
        "print('Precision: ',metrics.precision_score(y_test,predictions,average=None))\n",
        "print('Recall: ',metrics.recall_score(y_test,predictions,average=None))"
      ],
      "metadata": {
        "id": "CzWqsGyul4c_",
        "colab": {
          "base_uri": "https://localhost:8080/"
        },
        "outputId": "3b880576-4aea-4c28-9ea7-c5c0e9b58c07"
      },
      "execution_count": 13,
      "outputs": [
        {
          "output_type": "stream",
          "name": "stdout",
          "text": [
            "Accuracy:  0.4467548834278513\n",
            "Confusion Matrix:  [[377   0   0  47   1   0   0   0   0   0   0   0   0   0   0   0   0   0\n",
            "    0   0   0   0   0   0   0   0   0]\n",
            " [ 43   0   0   2   0   0   0   0   0   0   0   0   0   0   0   0   0   0\n",
            "    0   0   0   0   0   0   0   0   0]\n",
            " [ 14   0   0   2   0   0   0   0   0   0   0   0   0   0   0   0   0   0\n",
            "    0   0   0   0   0   0   0   0   0]\n",
            " [ 43   0   0 328   2   0   0   0   0   0   0   0   0   0   0   0   0   0\n",
            "    0   0   0   0   0   0   0   0   0]\n",
            " [165   0   0  36   4   0   0   0   0   0   0   0   0   0   0   0   0   0\n",
            "    0   0   0   0   0   0   0   0   0]\n",
            " [ 11   0   0   0   0   0   0   0   0   0   0   0   0   0   0   0   0   0\n",
            "    0   0   0   0   0   0   0   0   0]\n",
            " [  0   0   0   9   0   0   0   0   0   0   0   0   0   0   0   0   0   0\n",
            "    0   0   0   0   0   0   0   0   0]\n",
            " [ 55   0   0  16   0   0   0   0   0   0   0   0   0   0   0   0   0   0\n",
            "    0   0   0   0   0   0   0   0   0]\n",
            " [  0   0   0  17   0   0   0   0   0   0   0   0   0   0   0   0   0   0\n",
            "    0   0   0   0   0   0   0   0   0]\n",
            " [ 11   0   0   8   0   0   0   0   0   0   0   0   0   0   0   0   0   0\n",
            "    0   0   0   0   0   0   0   0   0]\n",
            " [ 28   0   0   7   0   0   0   0   0   0   0   0   0   0   0   0   0   0\n",
            "    0   0   0   0   0   0   0   0   0]\n",
            " [  6   0   0   0   0   0   0   0   0   0   0   0   0   0   0   0   0   0\n",
            "    0   0   0   0   0   0   0   0   0]\n",
            " [ 81   0   0  77   0   0   0   0   0   0   0   0   0   0   0   0   0   0\n",
            "    0   0   0   0   0   0   0   0   0]\n",
            " [  9   0   0   8   0   0   0   0   0   0   0   0   0   0   0   0   0   0\n",
            "    0   0   0   0   0   0   0   0   0]\n",
            " [  4   0   0  21   0   0   0   0   0   0   0   0   0   0   0   0   0   0\n",
            "    0   0   0   0   0   0   0   0   0]\n",
            " [ 15   0   0   2   0   0   0   0   0   0   0   0   0   0   0   0   0   0\n",
            "    0   0   0   0   0   0   0   0   0]\n",
            " [  0   0   0  10   0   0   0   0   0   0   0   0   0   0   0   0   0   0\n",
            "    0   0   0   0   0   0   0   0   0]\n",
            " [ 35   0   0   0   1   0   0   0   0   0   0   0   0   0   0   0   0   0\n",
            "    0   0   0   0   0   0   0   0   0]\n",
            " [ 13   0   0   7   1   0   0   0   0   0   0   0   0   0   0   0   0   0\n",
            "    0   0   0   0   0   0   0   0   0]\n",
            " [  3   0   0   3   0   0   0   0   0   0   0   0   0   0   0   0   0   0\n",
            "    0   0   0   0   0   0   0   0   0]\n",
            " [  2   0   0   7   0   0   0   0   0   0   0   0   0   0   0   0   0   0\n",
            "    0   0   0   0   0   0   0   0   0]\n",
            " [  0   0   0   4   0   0   0   0   0   0   0   0   0   0   0   0   0   0\n",
            "    0   0   0   0   0   0   0   0   0]\n",
            " [  5   0   0   4   0   0   0   0   0   0   0   0   0   0   0   0   0   0\n",
            "    0   0   0   0   0   0   0   0   0]\n",
            " [ 29   0   0   0   0   0   0   0   0   0   0   0   0   0   0   0   0   0\n",
            "    0   0   0   0   0   0   0   0   0]\n",
            " [  1   0   0   4   0   0   0   0   0   0   0   0   0   0   0   0   0   0\n",
            "    0   0   0   0   0   0   0   0   0]\n",
            " [  5   0   0   1   0   0   0   0   0   0   0   0   0   0   0   0   0   0\n",
            "    0   0   0   0   0   0   0   0   0]\n",
            " [  1   0   0   2   0   0   0   0   0   0   0   0   0   0   0   0   0   0\n",
            "    0   0   0   0   0   0   0   0   0]]\n",
            "classification report is:                precision    recall  f1-score   support\n",
            "\n",
            "           0       0.39      0.89      0.55       425\n",
            "           1       0.00      0.00      0.00        45\n",
            "           2       0.00      0.00      0.00        16\n",
            "           3       0.53      0.88      0.66       373\n",
            "           4       0.44      0.02      0.04       205\n",
            "           5       0.00      0.00      0.00        11\n",
            "           6       0.00      0.00      0.00         9\n",
            "           7       0.00      0.00      0.00        71\n",
            "           8       0.00      0.00      0.00        17\n",
            "           9       0.00      0.00      0.00        19\n",
            "          10       0.00      0.00      0.00        35\n",
            "          11       0.00      0.00      0.00         6\n",
            "          12       0.00      0.00      0.00       158\n",
            "          13       0.00      0.00      0.00        17\n",
            "          14       0.00      0.00      0.00        25\n",
            "          15       0.00      0.00      0.00        17\n",
            "          16       0.00      0.00      0.00        10\n",
            "          17       0.00      0.00      0.00        36\n",
            "          18       0.00      0.00      0.00        21\n",
            "          19       0.00      0.00      0.00         6\n",
            "          20       0.00      0.00      0.00         9\n",
            "          21       0.00      0.00      0.00         4\n",
            "          22       0.00      0.00      0.00         9\n",
            "          23       0.00      0.00      0.00        29\n",
            "          24       0.00      0.00      0.00         5\n",
            "          25       0.00      0.00      0.00         6\n",
            "          26       0.00      0.00      0.00         3\n",
            "\n",
            "    accuracy                           0.45      1587\n",
            "   macro avg       0.05      0.07      0.05      1587\n",
            "weighted avg       0.29      0.45      0.31      1587\n",
            "\n",
            "Precision:  [0.39435146 0.         0.         0.52733119 0.44444444 0.\n",
            " 0.         0.         0.         0.         0.         0.\n",
            " 0.         0.         0.         0.         0.         0.\n",
            " 0.         0.         0.         0.         0.         0.\n",
            " 0.         0.         0.        ]\n",
            "Recall:  [0.88705882 0.         0.         0.87935657 0.0195122  0.\n",
            " 0.         0.         0.         0.         0.         0.\n",
            " 0.         0.         0.         0.         0.         0.\n",
            " 0.         0.         0.         0.         0.         0.\n",
            " 0.         0.         0.        ]\n"
          ]
        },
        {
          "output_type": "stream",
          "name": "stderr",
          "text": [
            "/usr/local/lib/python3.10/dist-packages/sklearn/metrics/_classification.py:1344: UndefinedMetricWarning: Precision and F-score are ill-defined and being set to 0.0 in labels with no predicted samples. Use `zero_division` parameter to control this behavior.\n",
            "  _warn_prf(average, modifier, msg_start, len(result))\n",
            "/usr/local/lib/python3.10/dist-packages/sklearn/metrics/_classification.py:1344: UndefinedMetricWarning: Precision and F-score are ill-defined and being set to 0.0 in labels with no predicted samples. Use `zero_division` parameter to control this behavior.\n",
            "  _warn_prf(average, modifier, msg_start, len(result))\n",
            "/usr/local/lib/python3.10/dist-packages/sklearn/metrics/_classification.py:1344: UndefinedMetricWarning: Precision and F-score are ill-defined and being set to 0.0 in labels with no predicted samples. Use `zero_division` parameter to control this behavior.\n",
            "  _warn_prf(average, modifier, msg_start, len(result))\n",
            "/usr/local/lib/python3.10/dist-packages/sklearn/metrics/_classification.py:1344: UndefinedMetricWarning: Precision is ill-defined and being set to 0.0 in labels with no predicted samples. Use `zero_division` parameter to control this behavior.\n",
            "  _warn_prf(average, modifier, msg_start, len(result))\n"
          ]
        }
      ]
    },
    {
      "cell_type": "code",
      "source": [
        "import numpy as np\n",
        "import pandas as pd\n",
        "from sklearn.feature_extraction.text import TfidfVectorizer\n",
        "from sklearn.model_selection import train_test_split\n",
        "from sklearn.svm import SVC  # Changed from MultinomialNB to SVC for SVM\n",
        "from sklearn import metrics\n",
        "\n",
        "data = pd.read_csv('train_data.txt', delimiter=':::')\n",
        "data.to_csv('train_data.csv', sep=',', index=False)\n",
        "\n",
        "dataset = pd.read_csv('train_data.csv', header=None, names=['MovieName', 'Genre', 'plot'])\n",
        "print(dataset)\n",
        "\n",
        "genres = dataset['Genre'].unique()\n",
        "print(genres)\n",
        "\n",
        "genre_to_num = {genre: i for i, genre in enumerate(genres)}\n",
        "print(genre_to_num)\n",
        "\n",
        "dataset['plotnum'] = dataset['Genre'].map(genre_to_num)\n",
        "print(dataset)\n",
        "\n",
        "X = dataset['plot']\n",
        "y = dataset['plotnum']\n",
        "\n",
        "vectorizer = TfidfVectorizer()\n",
        "X = vectorizer.fit_transform(X)\n",
        "\n",
        "clf = SVC(kernel='rbf')\n",
        "clf.fit(X, y)\n",
        "\n",
        "data = pd.read_csv('test_data.txt', delimiter=':::')\n",
        "data.to_csv('test_data.csv', sep=',', index=False)\n",
        "\n",
        "dataset = pd.read_csv('test_data.csv', header=None, names=['MovieName', 'Genre', 'plot'])\n",
        "dataset.dropna(inplace=True)\n",
        "\n",
        "dataset['plotnum'] = dataset['Genre'].map(genre_to_num)\n",
        "print(dataset)\n",
        "\n",
        "X_test = dataset['plot']\n",
        "X_test = vectorizer.transform(X_test)\n",
        "predictions = clf.predict(X_test)\n",
        "y_test = dataset['plotnum']\n",
        "\n",
        "print('Accuracy: ', metrics.accuracy_score(y_test, predictions))\n",
        "print('Confusion Matrix: ', metrics.confusion_matrix(y_test, predictions))\n",
        "print('Classification Report:\\n', metrics.classification_report(y_test, predictions))\n",
        "print('Precision: ', metrics.precision_score(y_test, predictions, average='weighted'))\n",
        "print('Recall: ', metrics.recall_score(y_test, predictions, average='weighted'))"
      ],
      "metadata": {
        "colab": {
          "base_uri": "https://localhost:8080/"
        },
        "id": "iWHwB7WS02U1",
        "outputId": "e1b55314-5c83-40fc-8da9-768d7ce536c8"
      },
      "execution_count": 2,
      "outputs": [
        {
          "output_type": "stream",
          "name": "stderr",
          "text": [
            "<ipython-input-2-30c4c3816cd2>:8: ParserWarning: Falling back to the 'python' engine because the 'c' engine does not support regex separators (separators > 1 char and different from '\\s+' are interpreted as regex); you can avoid this warning by specifying engine='python'.\n",
            "  data = pd.read_csv('train_data.txt', delimiter=':::')\n"
          ]
        },
        {
          "output_type": "stream",
          "name": "stdout",
          "text": [
            "                                       MovieName          Genre  \\\n",
            "1                  Oscar et la dame rose (2009)          drama    \n",
            "2                                  Cupid (1997)       thriller    \n",
            "3              Young, Wild and Wonderful (1980)          adult    \n",
            "4                         The Secret Sin (1915)          drama    \n",
            "5                        The Unrecovered (2007)          drama    \n",
            "...                                          ...            ...   \n",
            "9556                   No Stone Unturned (2017)    documentary    \n",
            "9557       La vraie nature de Bernadette (1972)          drama    \n",
            "9558                The Comedy of Errors (2012)         comedy    \n",
            "9559                  Beyond Good & Evil (2008)          drama    \n",
            "9560   Bploi wai dtaai: Leave Her to Die (2008)    documentary    \n",
            "\n",
            "                                                   plot  \n",
            "1      Listening in to a conversation between his do...  \n",
            "2      A brother and sister with a past incestuous r...  \n",
            "3      As the bus empties the students for their fie...  \n",
            "4      To help their unemployed father make ends mee...  \n",
            "5      The film's title refers not only to the un-re...  \n",
            "...                                                 ...  \n",
            "9556   Alex Gibney reopens the mysterious unsolved c...  \n",
            "9557   A woman imbued with naturalistic and libertar...  \n",
            "9558   Mendocino College Theatre Department presents...  \n",
            "9559   Chris Peterson is an aging homicide detective...  \n",
            "9560   A 2 year old baby girl lay alone on a bamboo ...  \n",
            "\n",
            "[9560 rows x 3 columns]\n",
            "[' drama ' ' thriller ' ' adult ' ' documentary ' ' comedy ' ' crime '\n",
            " ' reality-tv ' ' horror ' ' sport ' ' animation ' ' action ' ' fantasy '\n",
            " ' short ' ' sci-fi ' ' music ' ' adventure ' ' talk-show ' ' western '\n",
            " ' family ' ' mystery ' ' history ' ' news ' ' biography ' ' romance '\n",
            " ' game-show ' ' musical ' ' war ']\n",
            "{' drama ': 0, ' thriller ': 1, ' adult ': 2, ' documentary ': 3, ' comedy ': 4, ' crime ': 5, ' reality-tv ': 6, ' horror ': 7, ' sport ': 8, ' animation ': 9, ' action ': 10, ' fantasy ': 11, ' short ': 12, ' sci-fi ': 13, ' music ': 14, ' adventure ': 15, ' talk-show ': 16, ' western ': 17, ' family ': 18, ' mystery ': 19, ' history ': 20, ' news ': 21, ' biography ': 22, ' romance ': 23, ' game-show ': 24, ' musical ': 25, ' war ': 26}\n",
            "                                       MovieName          Genre  \\\n",
            "1                  Oscar et la dame rose (2009)          drama    \n",
            "2                                  Cupid (1997)       thriller    \n",
            "3              Young, Wild and Wonderful (1980)          adult    \n",
            "4                         The Secret Sin (1915)          drama    \n",
            "5                        The Unrecovered (2007)          drama    \n",
            "...                                          ...            ...   \n",
            "9556                   No Stone Unturned (2017)    documentary    \n",
            "9557       La vraie nature de Bernadette (1972)          drama    \n",
            "9558                The Comedy of Errors (2012)         comedy    \n",
            "9559                  Beyond Good & Evil (2008)          drama    \n",
            "9560   Bploi wai dtaai: Leave Her to Die (2008)    documentary    \n",
            "\n",
            "                                                   plot  plotnum  \n",
            "1      Listening in to a conversation between his do...        0  \n",
            "2      A brother and sister with a past incestuous r...        1  \n",
            "3      As the bus empties the students for their fie...        2  \n",
            "4      To help their unemployed father make ends mee...        0  \n",
            "5      The film's title refers not only to the un-re...        0  \n",
            "...                                                 ...      ...  \n",
            "9556   Alex Gibney reopens the mysterious unsolved c...        3  \n",
            "9557   A woman imbued with naturalistic and libertar...        0  \n",
            "9558   Mendocino College Theatre Department presents...        4  \n",
            "9559   Chris Peterson is an aging homicide detective...        0  \n",
            "9560   A 2 year old baby girl lay alone on a bamboo ...        3  \n",
            "\n",
            "[9560 rows x 4 columns]\n"
          ]
        },
        {
          "output_type": "stream",
          "name": "stderr",
          "text": [
            "<ipython-input-2-30c4c3816cd2>:32: ParserWarning: Falling back to the 'python' engine because the 'c' engine does not support regex separators (separators > 1 char and different from '\\s+' are interpreted as regex); you can avoid this warning by specifying engine='python'.\n",
            "  data = pd.read_csv('test_data.txt', delimiter=':::')\n"
          ]
        },
        {
          "output_type": "stream",
          "name": "stdout",
          "text": [
            "                                               MovieName          Genre  \\\n",
            "1                                  Edgar's Lunch (1998)       thriller    \n",
            "2                              La guerra de papá (1977)         comedy    \n",
            "3                           Off the Beaten Track (2010)    documentary    \n",
            "4                                Meu Amigo Hindu (2015)          drama    \n",
            "5                                     Er nu zhai (1955)          drama    \n",
            "...                                                  ...            ...   \n",
            "16109                    The Disenchanted Forest (2002)    documentary    \n",
            "16110                          \"Atwill at Large\" (2017)       thriller    \n",
            "16111                     Les oiseaux de passage (2015)         family    \n",
            "16112                            Missing Parents (1990)         comedy    \n",
            "16113   Muddy Waters and the Rolling Stones: Live at ...         music    \n",
            "\n",
            "                                                    plot  plotnum  \n",
            "1       L.R. Brane loves his life - his car, his apar...        1  \n",
            "2       Spain, March 1964: Quico is a very naughty ch...        4  \n",
            "3       One year in the life of Albin and his family ...        3  \n",
            "4       His father has died, he hasn't spoken with hi...        0  \n",
            "5       Before he was known internationally as a mart...        0  \n",
            "...                                                  ...      ...  \n",
            "16109   The Disenchanted Forest provides fresh insigh...        3  \n",
            "16110   Licensed to kill, Clive Atwill deserted the B...        1  \n",
            "16111   Cathy a Young girl receives for her 10th Birt...       18  \n",
            "16112   A young teens parents are so fed up with his ...        4  \n",
            "16113   The Rolling Stones join Muddy Waters' band on...       14  \n",
            "\n",
            "[16113 rows x 4 columns]\n",
            "Accuracy:  0.4944454788059331\n",
            "Confusion Matrix:  [[3432    0    0  499  153    0    0    3    0    0    0    0    4    0\n",
            "     0    0    0    1    0    0    0    0    0    0    0    0    0]\n",
            " [ 386    0    0   35   25    0    0    7    0    0    0    0    0    0\n",
            "     0    0    0    0    0    0    0    0    0    0    0    0    0]\n",
            " [ 105    0    0   17   44    0    0    0    0    0    0    0    1    0\n",
            "     0    0    0    0    0    0    0    0    0    0    0    0    0]\n",
            " [ 364    0    0 3501   36    0    0    1    1    0    0    0    4    0\n",
            "     0    0    0    2    0    0    0    0    0    0    0    0    0]\n",
            " [1164    0    0  233  774    0    0    4    0    0    0    0    5    0\n",
            "     1    0    0    1    0    0    0    0    0    0    0    0    0]\n",
            " [ 115    0    0   17    5    0    0    0    0    0    0    0    0    0\n",
            "     0    0    0    0    0    0    0    0    0    0    0    0    0]\n",
            " [  37    0    0  163   59    0    0    0    0    0    0    0    1    0\n",
            "     0    0    0    0    0    0    0    0    0    0    0    0    0]\n",
            " [ 416    0    0   86   46    0    0   86    0    0    0    0    1    0\n",
            "     0    0    0    0    0    0    0    0    0    0    0    0    0]\n",
            " [   6    0    0  100    9    0    0    0    9    0    1    0    1    0\n",
            "     0    0    0    0    0    0    0    0    0    0    0    0    0]\n",
            " [  82    0    0   49   34    0    0    1    0    0    0    0    3    0\n",
            "     0    0    0    0    0    0    0    0    0    0    0    0    0]\n",
            " [ 296    0    0   79   39    0    0    1    0    0    2    0    1    0\n",
            "     0    0    0    0    0    0    0    0    0    0    0    0    0]\n",
            " [  58    0    0   24    5    0    0    1    0    0    0    0    1    0\n",
            "     0    0    0    0    0    0    0    0    0    0    0    0    0]\n",
            " [ 692    0    0  693   74    0    0    4    0    0    0    0   65    0\n",
            "     0    0    0    0    0    0    0    0    0    0    0    0    0]\n",
            " [ 113    0    0   61   15    0    0    0    0    0    0    0    1    0\n",
            "     0    0    0    0    0    0    0    0    0    0    0    0    0]\n",
            " [  13    0    0  199   13    0    0    0    0    0    0    0    0    0\n",
            "     1    0    0    0    0    0    0    0    0    0    0    0    0]\n",
            " [ 143    0    0   51   21    0    0    0    0    0    0    0    0    0\n",
            "     0    1    0    1    0    0    0    0    0    0    0    0    0]\n",
            " [   3    0    0   82   17    0    0    0    0    0    0    0    0    0\n",
            "     0    0    0    0    0    0    0    0    0    0    0    0    0]\n",
            " [ 173    0    0   16   12    0    0    0    0    0    0    0    0    0\n",
            "     0    0    0   83    0    0    0    0    0    0    0    0    0]\n",
            " [ 118    0    0   79   36    0    0    1    0    0    0    0    1    0\n",
            "     0    0    0    0    1    0    0    0    0    0    0    0    0]\n",
            " [  86    0    0   10    0    0    0    1    0    0    0    0    0    0\n",
            "     0    0    0    0    0    0    0    0    0    0    0    0    0]\n",
            " [  19    0    0   59    0    0    0    0    0    0    0    0    0    0\n",
            "     0    0    0    0    0    0    0    0    0    0    0    0    0]\n",
            " [   6    0    0   49    9    0    0    0    0    0    0    0    0    0\n",
            "     0    0    0    0    0    0    0    0    0    0    0    0    0]\n",
            " [  22    0    0   50    5    0    0    0    0    0    0    0    0    0\n",
            "     0    0    0    0    0    0    0    0    0    0    0    0    0]\n",
            " [ 180    0    0    7   19    0    0    0    0    0    0    0    0    0\n",
            "     0    0    0    0    0    0    0    0    0    0    0    0    0]\n",
            " [   0    0    0   28   24    0    0    0    0    0    0    0    1    0\n",
            "     0    0    0    0    0    0    0    0    0    0   12    0    0]\n",
            " [  39    0    0   17   12    0    0    0    0    0    0    0    0    0\n",
            "     0    0    0    0    0    0    0    0    0    0    0    0    0]\n",
            " [  21    0    0   16    1    0    0    0    0    0    0    0    0    0\n",
            "     0    0    0    0    0    0    0    0    0    0    0    0    0]]\n",
            "Classification Report:\n",
            "               precision    recall  f1-score   support\n",
            "\n",
            "           0       0.42      0.84      0.56      4092\n",
            "           1       0.00      0.00      0.00       453\n",
            "           2       0.00      0.00      0.00       167\n",
            "           3       0.56      0.90      0.69      3909\n",
            "           4       0.52      0.35      0.42      2182\n",
            "           5       0.00      0.00      0.00       137\n",
            "           6       0.00      0.00      0.00       260\n",
            "           7       0.78      0.14      0.23       635\n",
            "           8       0.90      0.07      0.13       126\n",
            "           9       0.00      0.00      0.00       169\n",
            "          10       0.67      0.00      0.01       418\n",
            "          11       0.00      0.00      0.00        89\n",
            "          12       0.72      0.04      0.08      1528\n",
            "          13       0.00      0.00      0.00       190\n",
            "          14       0.50      0.00      0.01       226\n",
            "          15       1.00      0.00      0.01       217\n",
            "          16       0.00      0.00      0.00       102\n",
            "          17       0.94      0.29      0.45       284\n",
            "          18       1.00      0.00      0.01       236\n",
            "          19       0.00      0.00      0.00        97\n",
            "          20       0.00      0.00      0.00        78\n",
            "          21       0.00      0.00      0.00        64\n",
            "          22       0.00      0.00      0.00        77\n",
            "          23       0.00      0.00      0.00       206\n",
            "          24       1.00      0.18      0.31        65\n",
            "          25       0.00      0.00      0.00        68\n",
            "          26       0.00      0.00      0.00        38\n",
            "\n",
            "    accuracy                           0.49     16113\n",
            "   macro avg       0.33      0.10      0.11     16113\n",
            "weighted avg       0.49      0.49      0.40     16113\n",
            "\n",
            "Precision:  0.49420191384627976\n",
            "Recall:  0.4944454788059331\n"
          ]
        },
        {
          "output_type": "stream",
          "name": "stderr",
          "text": [
            "/usr/local/lib/python3.10/dist-packages/sklearn/metrics/_classification.py:1344: UndefinedMetricWarning: Precision and F-score are ill-defined and being set to 0.0 in labels with no predicted samples. Use `zero_division` parameter to control this behavior.\n",
            "  _warn_prf(average, modifier, msg_start, len(result))\n",
            "/usr/local/lib/python3.10/dist-packages/sklearn/metrics/_classification.py:1344: UndefinedMetricWarning: Precision and F-score are ill-defined and being set to 0.0 in labels with no predicted samples. Use `zero_division` parameter to control this behavior.\n",
            "  _warn_prf(average, modifier, msg_start, len(result))\n",
            "/usr/local/lib/python3.10/dist-packages/sklearn/metrics/_classification.py:1344: UndefinedMetricWarning: Precision and F-score are ill-defined and being set to 0.0 in labels with no predicted samples. Use `zero_division` parameter to control this behavior.\n",
            "  _warn_prf(average, modifier, msg_start, len(result))\n",
            "/usr/local/lib/python3.10/dist-packages/sklearn/metrics/_classification.py:1344: UndefinedMetricWarning: Precision is ill-defined and being set to 0.0 in labels with no predicted samples. Use `zero_division` parameter to control this behavior.\n",
            "  _warn_prf(average, modifier, msg_start, len(result))\n"
          ]
        }
      ]
    },
    {
      "cell_type": "code",
      "source": [],
      "metadata": {
        "id": "3WeowU2m1fkP"
      },
      "execution_count": null,
      "outputs": []
    }
  ]
}